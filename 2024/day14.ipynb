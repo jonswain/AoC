{
 "cells": [
  {
   "cell_type": "code",
   "execution_count": 14,
   "metadata": {},
   "outputs": [
    {
     "name": "stdout",
     "output_type": "stream",
     "text": [
      "Part 1 answer: 230461440\n",
      "Part 2 answer: 6668\n"
     ]
    },
    {
     "data": {
      "image/png": "[encoded data removed]",
      "text/plain": [
       "<Figure size 640x480 with 1 Axes>"
      ]
     },
     "metadata": {},
     "output_type": "display_data"
    }
   ],
   "source": [
    "from dataclasses import dataclass\n",
    "import re\n",
    "import numpy as np\n",
    "import matplotlib.pyplot as plt\n",
    "\n",
    "\n",
    "@dataclass\n",
    "class Robot:\n",
    "    x: int\n",
    "    y: int\n",
    "    vx: int\n",
    "    vy: int\n",
    "    map_size: tuple[int, int]\n",
    "\n",
    "    def move(self):\n",
    "        self.x += self.vx\n",
    "        self.y += self.vy\n",
    "\n",
    "        if self.x < 0:\n",
    "            self.x = self.map_size[1] + self.x\n",
    "        elif self.x >= self.map_size[1]:\n",
    "            self.x = self.x - self.map_size[1]\n",
    "        if self.y < 0:\n",
    "            self.y = self.map_size[0] + self.y\n",
    "        elif self.y >= self.map_size[0]:\n",
    "            self.y = self.y - self.map_size[0]\n",
    "\n",
    "    def __repr__(self):\n",
    "        return f\"Robot(x={self.x}, y={self.y}, vx={self.vx}, vy={self.vy})\"\n",
    "\n",
    "\n",
    "def parse_input(input_text, map_size):\n",
    "    parsed_input = re.findall(r\"p=(-?\\d+),(-?\\d+) v=(-?\\d+),(-?\\d+)\", input_text)\n",
    "    robots = []\n",
    "    for line in parsed_input:\n",
    "        x, y, vx, vy = map(int, line)\n",
    "        robots.append(Robot(x, y, vx, vy, map_size))\n",
    "    return robots\n",
    "\n",
    "\n",
    "def calc_safety_factor(robots, map_size):\n",
    "    tl, tr, bl, br = 0, 0, 0, 0\n",
    "    tl_limits = ((map_size[0] - 1) / 2) - 1, ((map_size[1] - 1) / 2) - 1\n",
    "    tr_limits = ((map_size[0] - 1) / 2) - 1, ((map_size[1] + 1) / 2)\n",
    "    bl_limits = ((map_size[0] + 1) / 2), ((map_size[1] - 1) / 2) - 1\n",
    "    br_limits = ((map_size[0] + 1) / 2), ((map_size[1] + 1) / 2)\n",
    "\n",
    "    for robot in robots:\n",
    "        if robot.x <= tl_limits[1] and robot.y <= tl_limits[0]:\n",
    "            tl += 1\n",
    "        elif robot.x >= tr_limits[1] and robot.y <= tr_limits[0]:\n",
    "            tr += 1\n",
    "        elif robot.x <= bl_limits[1] and robot.y >= bl_limits[0]:\n",
    "            bl += 1\n",
    "        elif robot.x >= br_limits[1] and robot.y >= br_limits[0]:\n",
    "            br += 1\n",
    "\n",
    "    return tl * tr * bl * br\n",
    "\n",
    "\n",
    "def check_if_message(robots, map_size):\n",
    "    locations = np.zeros(map_size)\n",
    "    for robot in robots:\n",
    "        locations[robot.y, robot.x] += 1\n",
    "    return np.max(locations) > 1\n",
    "\n",
    "\n",
    "def part_1(input_text, map_size, seconds):\n",
    "    robots = parse_input(input_text, map_size)\n",
    "    for _ in range(seconds):\n",
    "        for robot in robots:\n",
    "            robot.move()\n",
    "    return calc_safety_factor(robots, map_size)\n",
    "\n",
    "\n",
    "def part_2(input_text, map_size, seconds):\n",
    "    robots = parse_input(input_text, map_size)\n",
    "    for i in range(seconds):\n",
    "        for robot in robots:\n",
    "            robot.move()\n",
    "        if not check_if_message(robots, map_size):\n",
    "            return i + 1, robots\n",
    "\n",
    "\n",
    "map_size = (103, 101)\n",
    "input_text = open(\"day14.txt\", \"r\").read()\n",
    "\n",
    "part_1_answer = part_1(input_text=input_text, map_size=map_size, seconds=100)\n",
    "part_2_answer, robots = part_2(input_text=input_text, map_size=map_size, seconds=10000)\n",
    "\n",
    "print(f\"Part 1 answer: {part_1_answer}\")\n",
    "print(f\"Part 2 answer: {part_2_answer}\")\n",
    "\n",
    "plt.scatter([robot.x for robot in robots], [robot.y for robot in robots], s=2)\n",
    "plt.show()"
   ]
  },
  {
   "cell_type": "code",
   "execution_count": null,
   "metadata": {},
   "outputs": [],
   "source": []
  }
 ],
 "metadata": {
  "kernelspec": {
   "display_name": "consumable_analyser_data_analysis_dev",
   "language": "python",
   "name": "python3"
  },
  "language_info": {
   "codemirror_mode": {
    "name": "ipython",
    "version": 3
   },
   "file_extension": ".py",
   "mimetype": "text/x-python",
   "name": "python",
   "nbconvert_exporter": "python",
   "pygments_lexer": "ipython3",
   "version": "3.11.9"
  }
 },
 "nbformat": 4,
 "nbformat_minor": 2
}
