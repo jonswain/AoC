{
 "cells": [
  {
   "cell_type": "code",
   "execution_count": 287,
   "metadata": {},
   "outputs": [],
   "source": [
    "import numpy as np\n",
    "import re\n",
    "\n",
    "exmaple_input = \"\"\"##########\n",
    "#..O..O.O#\n",
    "#......O.#\n",
    "#.OO..O.O#\n",
    "#..O@..O.#\n",
    "#O#..O...#\n",
    "#O..O..O.#\n",
    "#.OO.O.OO#\n",
    "#....O...#\n",
    "##########\n",
    "\n",
    "<vv>^<v^>v>^vv^v>v<>v^v<v<^vv<<<^><<><>>v<vvv<>^v^>^<<<><<v<<<v^vv^v>^\n",
    "vvv<<^>^v^^><<>>><>^<<><^vv^^<>vvv<>><^^v>^>vv<>v<<<<v<^v>^<^^>>>^<v<v\n",
    "><>vv>v^v^<>><>>>><^^>vv>v<^^^>>v^v^<^^>v^^>v^<^v>v<>>v^v^<v>v^^<^^vv<\n",
    "<<v<^>>^^^^>>>v^<>vvv^><v<<<>^^^vv^<vvv>^>v<^^^^v<>^>vvvv><>>v^<<^^^^^\n",
    "^><^><>>><>^^<<^^v>>><^<v>^<vv>>v>>>^v><>^v><<<<v>>v<v<v>vvv>^<><<>^><\n",
    "^>><>^v<><^vvv<^^<><v<<<<<><^v<<<><<<^^<v<^^^><^>>^<v^><<<^>>^v<v^v<v^\n",
    ">^>>^v>vv>^<<^v<>><<><<v<<v><>v<^vv<<<>^^v^>^^>>><<^v>>v^v><^^>>^<>vv^\n",
    "<><^^>^^^<><vvvvv^v<v<<>^v<v>v<<^><<><<><<<^^<<<^<<>><<><^^^>^^<>^>v<>\n",
    "^^>vv<^v^v<vv>^<><v<^v>^^^>>>^^vvv^>vvv<>>>^<^>>>>>^<<^v>^vvv<>^<><<v>\n",
    "v^^>>><<^^<>>^v^<v^vv<>v^<<>^<^v^v><^<<<><<^<v><v<>vv>>v><v^<vv<>v^<<^\"\"\"\n",
    "\n",
    "exmaple_input = open(\"day15.txt\", \"r\").read()"
   ]
  },
  {
   "cell_type": "code",
   "execution_count": 288,
   "metadata": {},
   "outputs": [
    {
     "name": "stdout",
     "output_type": "stream",
     "text": [
      "[['#' '#' '#' ... '#' '#' '#']\n",
      " ['#' '.' '.' ... 'O' 'O' '#']\n",
      " ['#' '#' 'O' ... 'O' 'O' '#']\n",
      " ...\n",
      " ['#' 'O' 'O' ... 'O' 'O' '#']\n",
      " ['#' 'O' 'O' ... '#' '.' '#']\n",
      " ['#' '#' '#' ... '#' '#' '#']]\n"
     ]
    }
   ],
   "source": [
    "def parse_input(text):\n",
    "    floor_map, directions = text.split(\"\\n\\n\")\n",
    "    floor_map = np.array([list(row) for row in floor_map.split(\"\\n\")])\n",
    "    directions = \"\".join(directions.split(\"\\n\"))\n",
    "    return floor_map, directions\n",
    "\n",
    "\n",
    "def find_start(floor_map):\n",
    "    for y, row in enumerate(floor_map):\n",
    "        for x, cell in enumerate(row):\n",
    "            if cell == \"@\":\n",
    "                return x, y\n",
    "\n",
    "\n",
    "def get_path(floor_map, x, y, direction):\n",
    "    if direction == \">\":\n",
    "        return floor_map[y, x:]\n",
    "    elif direction == \"<\":\n",
    "        return floor_map[y, : x + 1][::-1]\n",
    "    elif direction == \"^\":\n",
    "        return floor_map[: y + 1, x][::-1]\n",
    "    elif direction == \"v\":\n",
    "        return floor_map[y:, x]\n",
    "\n",
    "\n",
    "def can_move(path):\n",
    "    path = \"\".join(path)\n",
    "    if re.search(r\"@O*\\.\", path):\n",
    "        return True\n",
    "    else:\n",
    "        return False\n",
    "\n",
    "\n",
    "def how_many_move(path):\n",
    "    path = \"\".join(path)\n",
    "    boxes = re.findall(r\"@(O*)\\.\", path)\n",
    "    return len(boxes[0])\n",
    "\n",
    "\n",
    "def move(floor_map, x, y, direction, number_of_boxes):\n",
    "    if direction == \">\":\n",
    "        floor_map[y, x + 1] = \"@\"\n",
    "        floor_map[y, x + 2 : x + 2 + number_of_boxes] = \"O\"\n",
    "    elif direction == \"<\":\n",
    "        floor_map[y, x - 1] = \"@\"\n",
    "        floor_map[y, x - 1 - number_of_boxes : x - 1] = \"O\"\n",
    "    elif direction == \"^\":\n",
    "        floor_map[y - 1, x] = \"@\"\n",
    "        floor_map[y - 1 - number_of_boxes : y - 1, x] = \"O\"\n",
    "    elif direction == \"v\":\n",
    "        floor_map[y + 1, x] = \"@\"\n",
    "        floor_map[y + 2 : y + 2 + number_of_boxes, x] = \"O\"\n",
    "    floor_map[y, x] = \".\"\n",
    "    return floor_map\n",
    "\n",
    "\n",
    "floor_map, directions = parse_input(exmaple_input)\n",
    "for direction in directions:\n",
    "    current_pos = find_start(floor_map)\n",
    "    path = get_path(floor_map, *current_pos, direction)\n",
    "    if can_move(path):\n",
    "        number_of_boxes = how_many_move(path)\n",
    "        floor_map = move(floor_map, *current_pos, direction, number_of_boxes)\n",
    "\n",
    "print(floor_map)"
   ]
  },
  {
   "cell_type": "code",
   "execution_count": 289,
   "metadata": {},
   "outputs": [
    {
     "data": {
      "text/plain": [
       "1505963"
      ]
     },
     "execution_count": 289,
     "metadata": {},
     "output_type": "execute_result"
    }
   ],
   "source": [
    "def calc_score(floor_map):\n",
    "    score = 0\n",
    "    for x in range(floor_map.shape[1]):\n",
    "        for y in range(floor_map.shape[0]):\n",
    "            if floor_map[y, x] == \"O\":\n",
    "                score += y * 100 + x\n",
    "    return score\n",
    "\n",
    "\n",
    "calc_score(floor_map)"
   ]
  },
  {
   "cell_type": "code",
   "execution_count": null,
   "metadata": {},
   "outputs": [],
   "source": []
  }
 ],
 "metadata": {
  "kernelspec": {
   "display_name": "consumable_analyser_data_analysis_dev",
   "language": "python",
   "name": "python3"
  },
  "language_info": {
   "codemirror_mode": {
    "name": "ipython",
    "version": 3
   },
   "file_extension": ".py",
   "mimetype": "text/x-python",
   "name": "python",
   "nbconvert_exporter": "python",
   "pygments_lexer": "ipython3",
   "version": "3.11.9"
  }
 },
 "nbformat": 4,
 "nbformat_minor": 2
}
